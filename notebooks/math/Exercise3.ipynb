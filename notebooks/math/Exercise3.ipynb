{
  "nbformat": 4,
  "nbformat_minor": 0,
  "metadata": {
    "colab": {
      "name": "Exercise3.ipynb",
      "provenance": [],
      "authorship_tag": "ABX9TyM1Oc6/6holj8OPJmWgoX/r",
      "include_colab_link": true
    },
    "kernelspec": {
      "name": "python3",
      "display_name": "Python 3"
    }
  },
  "cells": [
    {
      "cell_type": "markdown",
      "metadata": {
        "id": "view-in-github",
        "colab_type": "text"
      },
      "source": [
        "<a href=\"https://colab.research.google.com/github/rvoljanin/neuraluniversity/blob/master/notebooks/math/Exercise3.ipynb\" target=\"_parent\"><img src=\"https://colab.research.google.com/assets/colab-badge.svg\" alt=\"Open In Colab\"/></a>"
      ]
    },
    {
      "cell_type": "markdown",
      "metadata": {
        "id": "7zqxKv0KlBnb",
        "colab_type": "text"
      },
      "source": [
        "Задача 3"
      ]
    },
    {
      "cell_type": "code",
      "metadata": {
        "id": "D6PwjqzlkwMd",
        "colab_type": "code",
        "colab": {
          "base_uri": "https://localhost:8080/",
          "height": 34
        },
        "outputId": "f54e9b72-2018-4535-f1a6-15ebc0fc8264"
      },
      "source": [
        "def probability(m,n):\n",
        "  return m / n\n",
        "\n",
        "probability(25,30)"
      ],
      "execution_count": 1,
      "outputs": [
        {
          "output_type": "execute_result",
          "data": {
            "text/plain": [
              "0.8333333333333334"
            ]
          },
          "metadata": {
            "tags": []
          },
          "execution_count": 1
        }
      ]
    },
    {
      "cell_type": "markdown",
      "metadata": {
        "id": "hif8rqEXlHdK",
        "colab_type": "text"
      },
      "source": [
        "Задача 4"
      ]
    },
    {
      "cell_type": "code",
      "metadata": {
        "id": "JqF5IXMMlJaH",
        "colab_type": "code",
        "colab": {
          "base_uri": "https://localhost:8080/",
          "height": 34
        },
        "outputId": "47e4947b-6fd7-4cc1-a4ef-f2e60fe77e7d"
      },
      "source": [
        "m = 1\n",
        "n = len(('7555','8555','5755','5855','5575','5585','5557','5558'))\n",
        "\n",
        "probability(m,n)"
      ],
      "execution_count": 5,
      "outputs": [
        {
          "output_type": "execute_result",
          "data": {
            "text/plain": [
              "0.125"
            ]
          },
          "metadata": {
            "tags": []
          },
          "execution_count": 5
        }
      ]
    },
    {
      "cell_type": "markdown",
      "metadata": {
        "id": "W1ie2V1TmtXn",
        "colab_type": "text"
      },
      "source": [
        "Задача 5"
      ]
    },
    {
      "cell_type": "code",
      "metadata": {
        "id": "CPsIH2zYmu9v",
        "colab_type": "code",
        "colab": {
          "base_uri": "https://localhost:8080/",
          "height": 225
        },
        "outputId": "c9007891-4bc9-4f30-94fe-89d15f56f2bb"
      },
      "source": [
        "n_0 = [ i*j for i in range(1,7) for j in range(1,7) ]\n",
        "print(n_0)\n",
        "\n",
        "m_a = [ i for i in n_0 if i == 6 ]\n",
        "print(n_a)\n",
        "\n",
        "m_b = [ i for i in n_0 if i >= 33 ]\n",
        "print(n_b)\n",
        "\n",
        "m_c = [ i for i in n_0 if i%2 == 0 ]\n",
        "print(n_c)\n",
        "\n",
        "a = probability(len(m_a),len(n_0))\n",
        "b = probability(len(m_b),len(n_0))\n",
        "c = probability(len(m_c),len(n_0))\n",
        "\n",
        "print('-'*80)\n",
        "print(a)\n",
        "print(b)\n",
        "print(c)\n",
        "\n",
        "print('-'*80)\n",
        "print((1/6)*(1/6)*4)\n",
        "print((1/6)*(1/6))\n",
        "print((1/6)*(1/6)*27)\n"
      ],
      "execution_count": 24,
      "outputs": [
        {
          "output_type": "stream",
          "text": [
            "[1, 2, 3, 4, 5, 6, 2, 4, 6, 8, 10, 12, 3, 6, 9, 12, 15, 18, 4, 8, 12, 16, 20, 24, 5, 10, 15, 20, 25, 30, 6, 12, 18, 24, 30, 36]\n",
            "[6, 6, 6, 6]\n",
            "[36]\n",
            "[2, 4, 6, 2, 4, 6, 8, 10, 12, 6, 12, 18, 4, 8, 12, 16, 20, 24, 10, 20, 30, 6, 12, 18, 24, 30, 36]\n",
            "--------------------------------------------------------------------------------\n",
            "0.1111111111111111\n",
            "0.027777777777777776\n",
            "0.75\n",
            "--------------------------------------------------------------------------------\n",
            "0.1111111111111111\n",
            "0.027777777777777776\n",
            "0.75\n"
          ],
          "name": "stdout"
        }
      ]
    },
    {
      "cell_type": "markdown",
      "metadata": {
        "id": "zu-a34x6upYi",
        "colab_type": "text"
      },
      "source": [
        "Задача 6"
      ]
    },
    {
      "cell_type": "code",
      "metadata": {
        "id": "xIs6B1diurno",
        "colab_type": "code",
        "colab": {
          "base_uri": "https://localhost:8080/",
          "height": 69
        },
        "outputId": "6dac0c20-2fb2-4789-abc4-fd935f6c09b8"
      },
      "source": [
        "n = 20**2\n",
        "m_a = 1\n",
        "m_b = 8\n",
        "m_c = 10\n",
        "\n",
        "print(probability(m_a,n))\n",
        "print(probability(m_b,n))\n",
        "print(probability(m_c,n))"
      ],
      "execution_count": 3,
      "outputs": [
        {
          "output_type": "stream",
          "text": [
            "0.0025\n",
            "0.02\n",
            "0.025\n"
          ],
          "name": "stdout"
        }
      ]
    },
    {
      "cell_type": "markdown",
      "metadata": {
        "id": "ne8Nq_3UULoo",
        "colab_type": "text"
      },
      "source": [
        "Задача 7"
      ]
    },
    {
      "cell_type": "code",
      "metadata": {
        "id": "Xog6Hc-HUNp1",
        "colab_type": "code",
        "colab": {
          "base_uri": "https://localhost:8080/",
          "height": 52
        },
        "outputId": "8d7d12c7-6b1b-433b-e2ee-43207e7f7a24"
      },
      "source": [
        "n = 20\n",
        "m_r1 = 12\n",
        "m_r2 = 11\n",
        "m_b1 = 8\n",
        "m_b2 = 7\n",
        "\n",
        "print('Две красные: ' + str(probability(m_r1,n)*probability(m_r2,n)))\n",
        "print('Две синие: ' + str(probability(m_b1,n)*probability(m_b2,n)))"
      ],
      "execution_count": 6,
      "outputs": [
        {
          "output_type": "stream",
          "text": [
            "Две красные: 0.33\n",
            "Две синие: 0.13999999999999999\n"
          ],
          "name": "stdout"
        }
      ]
    }
  ]
}