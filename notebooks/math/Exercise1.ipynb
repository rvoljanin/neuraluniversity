{
  "nbformat": 4,
  "nbformat_minor": 0,
  "metadata": {
    "colab": {
      "name": "Exercise1",
      "provenance": [],
      "authorship_tag": "ABX9TyNxoLxUCCC0RX0mt3MlSa3O",
      "include_colab_link": true
    },
    "kernelspec": {
      "name": "python3",
      "display_name": "Python 3"
    }
  },
  "cells": [
    {
      "cell_type": "markdown",
      "metadata": {
        "id": "view-in-github",
        "colab_type": "text"
      },
      "source": [
        "<a href=\"https://colab.research.google.com/github/rvoljanin/neuraluniversity/blob/master/notebooks/math/Exercise1.ipynb\" target=\"_parent\"><img src=\"https://colab.research.google.com/assets/colab-badge.svg\" alt=\"Open In Colab\"/></a>"
      ]
    },
    {
      "cell_type": "code",
      "metadata": {
        "id": "_ob0a3lRuKCg",
        "colab_type": "code",
        "colab": {}
      },
      "source": [
        "import numpy as np"
      ],
      "execution_count": 0,
      "outputs": []
    },
    {
      "cell_type": "code",
      "metadata": {
        "id": "XBO8-D4su4G7",
        "colab_type": "code",
        "colab": {
          "base_uri": "https://localhost:8080/",
          "height": 121
        },
        "outputId": "48f52fdf-d758-4d3f-df2d-c6678df0f544"
      },
      "source": [
        "vector = np.array([1,2,3,4])\n",
        "vector_defined = vector.reshape((1,4))\n",
        "vector_vertical = vector.reshape((4,1))\n",
        "\n",
        "print(vector)\n",
        "print(vector_defined)\n",
        "print(vector_vertical)"
      ],
      "execution_count": 41,
      "outputs": [
        {
          "output_type": "stream",
          "text": [
            "[1 2 3 4]\n",
            "[[1 2 3 4]]\n",
            "[[1]\n",
            " [2]\n",
            " [3]\n",
            " [4]]\n"
          ],
          "name": "stdout"
        }
      ]
    },
    {
      "cell_type": "code",
      "metadata": {
        "id": "k-a0i9LJ4Huh",
        "colab_type": "code",
        "colab": {
          "base_uri": "https://localhost:8080/",
          "height": 139
        },
        "outputId": "0273e5f2-3544-4234-af24-65bda9bcd150"
      },
      "source": [
        "def print_vector(v):\n",
        "  shape = v.shape\n",
        "  s = ''\n",
        "\n",
        "  if len(shape) == 0:\n",
        "    s = str(v)\n",
        "  elif len(shape) == 1:\n",
        "    for i in v:\n",
        "      s += str(i) + '  '\n",
        "  else:\n",
        "    if shape[0] == 1:\n",
        "      for i in range(shape[1]):\n",
        "        s += str(v[0][i]) + '  '\n",
        "    elif shape[1] == 1:\n",
        "      for i in range(shape[0]):\n",
        "        s += str(v[i][0]) + '\\n'\n",
        "      \n",
        "  print(s)\n",
        "\n",
        "print_vector(vector)\n",
        "print_vector(vector_defined)\n",
        "print_vector(vector_vertical)"
      ],
      "execution_count": 42,
      "outputs": [
        {
          "output_type": "stream",
          "text": [
            "1  2  3  4  \n",
            "1  2  3  4  \n",
            "1\n",
            "2\n",
            "3\n",
            "4\n",
            "\n"
          ],
          "name": "stdout"
        }
      ]
    },
    {
      "cell_type": "code",
      "metadata": {
        "id": "Ok32tQIsGaCg",
        "colab_type": "code",
        "colab": {
          "base_uri": "https://localhost:8080/",
          "height": 225
        },
        "outputId": "025d7537-6fa1-45e5-c41d-e88f8a1ad012"
      },
      "source": [
        "print_vector(vector + 1)\n",
        "print_vector(vector_vertical + 1)\n",
        "\n",
        "print_vector(vector * 3)\n",
        "print_vector(vector_vertical * 3)"
      ],
      "execution_count": 45,
      "outputs": [
        {
          "output_type": "stream",
          "text": [
            "2  3  4  5  \n",
            "2\n",
            "3\n",
            "4\n",
            "5\n",
            "\n",
            "3  6  9  12  \n",
            "3\n",
            "6\n",
            "9\n",
            "12\n",
            "\n"
          ],
          "name": "stdout"
        }
      ]
    },
    {
      "cell_type": "code",
      "metadata": {
        "id": "TOD4DVbIG50a",
        "colab_type": "code",
        "colab": {
          "base_uri": "https://localhost:8080/",
          "height": 121
        },
        "outputId": "edefd9dd-fa9b-4ca6-bb30-fcbf727d268f"
      },
      "source": [
        "vector2 = vector * 3\n",
        "vector_vertical2 = vector_vertical + 7\n",
        "\n",
        "print_vector(vector2)\n",
        "print_vector(vector_vertical2)"
      ],
      "execution_count": 46,
      "outputs": [
        {
          "output_type": "stream",
          "text": [
            "3  6  9  12  \n",
            "8\n",
            "9\n",
            "10\n",
            "11\n",
            "\n"
          ],
          "name": "stdout"
        }
      ]
    },
    {
      "cell_type": "code",
      "metadata": {
        "id": "gQvXRDrUHOF7",
        "colab_type": "code",
        "colab": {
          "base_uri": "https://localhost:8080/",
          "height": 121
        },
        "outputId": "6e1f401a-b6aa-487a-a738-b3e275568f2b"
      },
      "source": [
        "print_vector(vector + vector2)\n",
        "print_vector(vector_vertical * vector_vertical2)"
      ],
      "execution_count": 48,
      "outputs": [
        {
          "output_type": "stream",
          "text": [
            "4  8  12  16  \n",
            "8\n",
            "18\n",
            "30\n",
            "44\n",
            "\n"
          ],
          "name": "stdout"
        }
      ]
    },
    {
      "cell_type": "code",
      "metadata": {
        "id": "n7-TlzVQIzn9",
        "colab_type": "code",
        "colab": {
          "base_uri": "https://localhost:8080/",
          "height": 121
        },
        "outputId": "786c9ca7-6f7e-4b88-b74e-afbb673f21f0"
      },
      "source": [
        "matrix = np.array([[0, 1, 2], [1, 2, 3], [2, 3, 4]])\n",
        "matrix2 = np.array([[145, 23, 191], [17, 252, 31], [99, 112, 39]])\n",
        "\n",
        "print(matrix)\n",
        "print(matrix2)"
      ],
      "execution_count": 52,
      "outputs": [
        {
          "output_type": "stream",
          "text": [
            "[[0 1 2]\n",
            " [1 2 3]\n",
            " [2 3 4]]\n",
            "[[145  23 191]\n",
            " [ 17 252  31]\n",
            " [ 99 112  39]]\n"
          ],
          "name": "stdout"
        }
      ]
    },
    {
      "cell_type": "code",
      "metadata": {
        "id": "fNORyH6kJPS_",
        "colab_type": "code",
        "colab": {
          "base_uri": "https://localhost:8080/",
          "height": 121
        },
        "outputId": "0a4c3667-a166-49bd-b1cb-f9708b38c601"
      },
      "source": [
        "def print_matrix(m):\n",
        "  for v in m:\n",
        "    print_vector(v)\n",
        "\n",
        "print_matrix(matrix)\n",
        "print_matrix(matrix2)"
      ],
      "execution_count": 53,
      "outputs": [
        {
          "output_type": "stream",
          "text": [
            "0  1  2  \n",
            "1  2  3  \n",
            "2  3  4  \n",
            "145  23  191  \n",
            "17  252  31  \n",
            "99  112  39  \n"
          ],
          "name": "stdout"
        }
      ]
    },
    {
      "cell_type": "code",
      "metadata": {
        "id": "gYX_JcxGKGdX",
        "colab_type": "code",
        "colab": {
          "base_uri": "https://localhost:8080/",
          "height": 156
        },
        "outputId": "2fece1e0-0072-4d02-e2f8-90fb90cf0d02"
      },
      "source": [
        "print('Сложение')\n",
        "print_matrix(matrix + 1)\n",
        "print('Умножение')\n",
        "print_matrix(matrix * 3)"
      ],
      "execution_count": 56,
      "outputs": [
        {
          "output_type": "stream",
          "text": [
            "Сложение\n",
            "1  2  3  \n",
            "2  3  4  \n",
            "3  4  5  \n",
            "Умножение\n",
            "0  3  6  \n",
            "3  6  9  \n",
            "6  9  12  \n"
          ],
          "name": "stdout"
        }
      ]
    },
    {
      "cell_type": "code",
      "metadata": {
        "id": "GcYrJtzgKmtS",
        "colab_type": "code",
        "colab": {
          "base_uri": "https://localhost:8080/",
          "height": 156
        },
        "outputId": "ea78f79c-1676-41e6-a579-d83e73bc2ec6"
      },
      "source": [
        "print('Сложение')\n",
        "print_matrix(matrix + matrix2)\n",
        "print('Умножение')\n",
        "print_matrix(matrix * matrix2)"
      ],
      "execution_count": 57,
      "outputs": [
        {
          "output_type": "stream",
          "text": [
            "Сложение\n",
            "145  24  193  \n",
            "18  254  34  \n",
            "101  115  43  \n",
            "Умножение\n",
            "0  23  382  \n",
            "17  504  93  \n",
            "198  336  156  \n"
          ],
          "name": "stdout"
        }
      ]
    },
    {
      "cell_type": "code",
      "metadata": {
        "id": "IWW4BdsdK_AN",
        "colab_type": "code",
        "colab": {}
      },
      "source": [
        "def prod_matrix(m1, m2):\n",
        "  shape1 = m1.shape\n",
        "  shape2 = m2.shape\n",
        "\n",
        "  if shape1[0] != shape2[1]:\n",
        "    return np.array([])\n",
        "\n",
        "  out_matrix = np.zeros((shape1[0], shape2[1]))\n",
        "\n",
        "  for i in range(shape1[0]):\n",
        "    for j in range(shape2[1]):\n",
        "      curr_cell = 0\n",
        "      for t in range(shape1[1]):\n",
        "        curr_cell += m1[i,t] * m2[t,j]\n",
        "      out_matrix[i,j] = curr_cell\n",
        "  \n",
        "  return out_matrix"
      ],
      "execution_count": 0,
      "outputs": []
    },
    {
      "cell_type": "code",
      "metadata": {
        "id": "mWBmTxrPe8pW",
        "colab_type": "code",
        "colab": {
          "base_uri": "https://localhost:8080/",
          "height": 260
        },
        "outputId": "f48edbb2-2d2c-488d-8e7d-40f6a2f219a4"
      },
      "source": [
        "matrix3 = np.array([[0, 1, 2], [1, 2, 3], [2, 3, 4], [3, 4, 5]])\n",
        "matrix4 = np.array([[0, 1, 2, 3], [1, 2, 3, 4], [2, 3, 4, 5]])\n",
        "\n",
        "print('Первая матрица')\n",
        "print_matrix(matrix3)\n",
        "print('Вторая матрица')\n",
        "print_matrix(matrix4)\n",
        "print('Произведение')\n",
        "print_matrix(prod_matrix(matrix3,matrix4))"
      ],
      "execution_count": 62,
      "outputs": [
        {
          "output_type": "stream",
          "text": [
            "Первая матрица\n",
            "0  1  2  \n",
            "1  2  3  \n",
            "2  3  4  \n",
            "3  4  5  \n",
            "Вторая матрица\n",
            "0  1  2  3  \n",
            "1  2  3  4  \n",
            "2  3  4  5  \n",
            "Произведение\n",
            "5.0  8.0  11.0  14.0  \n",
            "8.0  14.0  20.0  26.0  \n",
            "11.0  20.0  29.0  38.0  \n",
            "14.0  26.0  38.0  50.0  \n"
          ],
          "name": "stdout"
        }
      ]
    },
    {
      "cell_type": "code",
      "metadata": {
        "id": "ksd4lON4f-fz",
        "colab_type": "code",
        "colab": {
          "base_uri": "https://localhost:8080/",
          "height": 104
        },
        "outputId": "cae26bc5-2be9-4846-a3a4-11cc8ba09cf5"
      },
      "source": [
        "print('Перемножение трёх матриц')\n",
        "\n",
        "\n",
        "def prod_3matrix(m1,m2,m3):\n",
        "  return prod_matrix(m1,prod_matrix(m2,m3))\n",
        "\n",
        "matrix6 = prod_3matrix(matrix3,matrix3,matrix4)\n",
        "\n",
        "print_matrix(matrix6)"
      ],
      "execution_count": 81,
      "outputs": [
        {
          "output_type": "stream",
          "text": [
            "Перемножение трёх матриц\n",
            "30.0  54.0  78.0  102.0  \n",
            "54.0  96.0  138.0  180.0  \n",
            "78.0  138.0  198.0  258.0  \n",
            "102.0  180.0  258.0  336.0  \n"
          ],
          "name": "stdout"
        }
      ]
    },
    {
      "cell_type": "code",
      "metadata": {
        "id": "9lnCsRGclIN8",
        "colab_type": "code",
        "colab": {
          "base_uri": "https://localhost:8080/",
          "height": 104
        },
        "outputId": "4ab3eefb-92a4-4fa8-8f5a-e9e23ccd2758"
      },
      "source": [
        "print('Разница между наибольшим и наименьшим элементами матрицы')\n",
        "\n",
        "def min_max_diff(m):\n",
        "  min = m[0][0]\n",
        "  max = m[0][0]\n",
        "\n",
        "  for i in range(m.shape[0]):\n",
        "    for j in range(m.shape[1]):\n",
        "      if m[i][j] < min:\n",
        "        min = m[i][j]\n",
        "      if m[i][j] > max:\n",
        "        max = m[i][j]\n",
        "  \n",
        "  return max - min\n",
        "\n",
        "print_matrix(matrix2)\n",
        "print(min_max_diff(matrix2))"
      ],
      "execution_count": 82,
      "outputs": [
        {
          "output_type": "stream",
          "text": [
            "Разница между наибольшим и наименьшим элементами матрицы\n",
            "145  23  191  \n",
            "17  252  31  \n",
            "99  112  39  \n",
            "235\n"
          ],
          "name": "stdout"
        }
      ]
    },
    {
      "cell_type": "code",
      "metadata": {
        "id": "HtxBu7i5nI7k",
        "colab_type": "code",
        "colab": {
          "base_uri": "https://localhost:8080/",
          "height": 104
        },
        "outputId": "26e300fd-fcce-42f5-e3d8-81c79c572f44"
      },
      "source": [
        "def transpose_matrix(matrix):\n",
        "  shape = matrix.shape\n",
        "  \n",
        "  out_matrix = np.zeros((shape[1], shape[0]))\n",
        "  \n",
        "  for i in range(shape[0]):\n",
        "    for j in range(shape[1]):\n",
        "      out_matrix[j,i] = matrix[i,j]\n",
        "  \n",
        "  return out_matrix\n",
        "\n",
        "def prod_matrix_self(m):\n",
        "  prod = prod_matrix(m,transpose_matrix(m))\n",
        "  try:\n",
        "    return np.linalg.inv(prod)\n",
        "  except np.linalg.LinAlgError:\n",
        "    return np.array([])\n",
        "\n",
        "print('Обычная матрица')\n",
        "print_matrix(prod_matrix_self(matrix2))\n",
        "print('Сингулярная матрица')\n",
        "print_matrix(prod_matrix_self(matrix3))"
      ],
      "execution_count": 94,
      "outputs": [
        {
          "output_type": "stream",
          "text": [
            "Обычная матрица\n",
            "4.922161299950098e-05  3.5827282686054585e-05  -9.699256905166802e-05  \n",
            "3.5827282686054585e-05  6.742477571208759e-05  -0.00012450592780287138  \n",
            "-9.6992569051668e-05  -0.00012450592780287138  0.0003033103696888382  \n",
            "Сингулярная матрица\n"
          ],
          "name": "stdout"
        }
      ]
    }
  ]
}