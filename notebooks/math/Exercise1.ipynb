{
  "nbformat": 4,
  "nbformat_minor": 0,
  "metadata": {
    "colab": {
      "name": "Exercise1",
      "provenance": [],
      "authorship_tag": "ABX9TyNX/l8kolc3nZa6Pvgdy+u8",
      "include_colab_link": true
    },
    "kernelspec": {
      "name": "python3",
      "display_name": "Python 3"
    }
  },
  "cells": [
    {
      "cell_type": "markdown",
      "metadata": {
        "id": "view-in-github",
        "colab_type": "text"
      },
      "source": [
        "<a href=\"https://colab.research.google.com/github/rvoljanin/neuraluniversity/blob/master/notebooks/math/Exercise1.ipynb\" target=\"_parent\"><img src=\"https://colab.research.google.com/assets/colab-badge.svg\" alt=\"Open In Colab\"/></a>"
      ]
    },
    {
      "cell_type": "code",
      "metadata": {
        "id": "_ob0a3lRuKCg",
        "colab_type": "code",
        "colab": {}
      },
      "source": [
        "import numpy as np"
      ],
      "execution_count": 0,
      "outputs": []
    },
    {
      "cell_type": "code",
      "metadata": {
        "id": "XBO8-D4su4G7",
        "colab_type": "code",
        "colab": {
          "base_uri": "https://localhost:8080/",
          "height": 121
        },
        "outputId": "48f52fdf-d758-4d3f-df2d-c6678df0f544"
      },
      "source": [
        "vector = np.array([1,2,3,4])\n",
        "vector_defined = vector.reshape((1,4))\n",
        "vector_vertical = vector.reshape((4,1))\n",
        "\n",
        "print(vector)\n",
        "print(vector_defined)\n",
        "print(vector_vertical)"
      ],
      "execution_count": 41,
      "outputs": [
        {
          "output_type": "stream",
          "text": [
            "[1 2 3 4]\n",
            "[[1 2 3 4]]\n",
            "[[1]\n",
            " [2]\n",
            " [3]\n",
            " [4]]\n"
          ],
          "name": "stdout"
        }
      ]
    },
    {
      "cell_type": "code",
      "metadata": {
        "id": "k-a0i9LJ4Huh",
        "colab_type": "code",
        "colab": {
          "base_uri": "https://localhost:8080/",
          "height": 139
        },
        "outputId": "0273e5f2-3544-4234-af24-65bda9bcd150"
      },
      "source": [
        "def print_vector(v):\n",
        "  shape = v.shape\n",
        "  s = ''\n",
        "\n",
        "  if len(shape) == 0:\n",
        "    s = str(v)\n",
        "  elif len(shape) == 1:\n",
        "    for i in v:\n",
        "      s += str(i) + '  '\n",
        "  else:\n",
        "    if shape[0] == 1:\n",
        "      for i in range(shape[1]):\n",
        "        s += str(v[0][i]) + '  '\n",
        "    elif shape[1] == 1:\n",
        "      for i in range(shape[0]):\n",
        "        s += str(v[i][0]) + '\\n'\n",
        "      \n",
        "  print(s)\n",
        "\n",
        "print_vector(vector)\n",
        "print_vector(vector_defined)\n",
        "print_vector(vector_vertical)"
      ],
      "execution_count": 42,
      "outputs": [
        {
          "output_type": "stream",
          "text": [
            "1  2  3  4  \n",
            "1  2  3  4  \n",
            "1\n",
            "2\n",
            "3\n",
            "4\n",
            "\n"
          ],
          "name": "stdout"
        }
      ]
    }
  ]
}