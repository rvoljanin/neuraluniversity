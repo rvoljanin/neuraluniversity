{
  "nbformat": 4,
  "nbformat_minor": 0,
  "metadata": {
    "colab": {
      "name": "Занятие1.ipynb",
      "provenance": [],
      "authorship_tag": "ABX9TyORvf6a5qq1M3bKACIg3P8K",
      "include_colab_link": true
    },
    "kernelspec": {
      "name": "python3",
      "display_name": "Python 3"
    }
  },
  "cells": [
    {
      "cell_type": "markdown",
      "metadata": {
        "id": "view-in-github",
        "colab_type": "text"
      },
      "source": [
        "<a href=\"https://colab.research.google.com/github/rvoljanin/neuraluniversity/blob/master/notebooks/ai/%D0%97%D0%B0%D0%BD%D1%8F%D1%82%D0%B8%D0%B51.ipynb\" target=\"_parent\"><img src=\"https://colab.research.google.com/assets/colab-badge.svg\" alt=\"Open In Colab\"/></a>"
      ]
    },
    {
      "cell_type": "markdown",
      "metadata": {
        "id": "2E-nXbHADrcW",
        "colab_type": "text"
      },
      "source": [
        "Спецификация оборудованияя на котором производилось обучение\n",
        "\n",
        "|CPU|i3-|\n",
        "|RAM|---|\n",
        "|VGA|\n",
        "|OS|"
      ]
    },
    {
      "cell_type": "markdown",
      "metadata": {
        "id": "uosA7b8AASiX",
        "colab_type": "text"
      },
      "source": [
        "| номер  | первый слой  | второй слой  | первая эпохо  | вторая эпоха  | комментарий |\n",
        "|---|---|---|---|---|---|\n",
        "| 1  | 800 | 400  | 0.9386  | 0.9971  |\n",
        "| 2  | 800 | 50  | 0.9291  | 0.9976  |\n",
        "| 3  | 800 | 5  | 0.8422  | 0.9973  |\n",
        "| 4  | 800 | 800  | 0.9401  | 0.9977  |\n",
        "| 5  | 800 | 8000  |  0.9433 | 0.9957  |\n",
        "| 6  | 800 | 80000  |  0.9369 | 0.9958  |\n",
        "| 7  | 8   | 80000 | 0.8594 | 0.9616 |\n",
        "| 8  | 80000 | 80000 | OOM | OOM | Как высчитывать объём паняти которых занимает модель? Как работать с моделями которые не помещаются в память?\n",
        "| 9  | 40000 | 40000 | OOM | OOM |\n",
        "| 10 | 20000 | 20000 | 0.9319 | 0.9955 | Лучший показатель был на 12 шаге\n",
        "| 11 | 80000 | 400 | 0.9261 | 0.9975 |\n",
        "| 12 | 80000 | 40 | 0.8972 | 0.9987 | Значение получено единожды, при повторных обучениях не повторялось\n",
        "| 13 | 79999 | 40 | 0.9146 | 0.9966 |"
      ]
    },
    {
      "cell_type": "code",
      "metadata": {
        "id": "IqH8BayjB-LH",
        "colab_type": "code",
        "colab": {}
      },
      "source": [
        " "
      ],
      "execution_count": 0,
      "outputs": []
    }
  ]
}